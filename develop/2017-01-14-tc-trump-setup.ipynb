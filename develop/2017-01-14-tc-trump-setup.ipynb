{
 "cells": [
  {
   "cell_type": "markdown",
   "metadata": {},
   "source": [
    "# Setup Notebook"
   ]
  },
  {
   "cell_type": "code",
   "execution_count": 2,
   "metadata": {
    "collapsed": false
   },
   "outputs": [],
   "source": [
    "# Standard library\n",
    "import os\n",
    "import sys\n",
    "sys.path.append(\"../src/\")\n",
    "\n",
    "# Third party imports\n",
    "import matplotlib.pyplot as plt\n",
    "import numpy as np\n",
    "import pandas as pd\n",
    "import seaborn as sns\n"
   ]
  },
  {
   "cell_type": "code",
   "execution_count": 3,
   "metadata": {
    "collapsed": true
   },
   "outputs": [],
   "source": [
    "# Customizations\n",
    "sns.set() # matplotlib defaults\n",
    "\n",
    "# Any tweaks that normally go in .matplotlibrc, etc., should explicitly go here\n",
    "plt.rcParams['figure.figsize'] = (12, 12)"
   ]
  },
  {
   "cell_type": "code",
   "execution_count": 14,
   "metadata": {
    "collapsed": true
   },
   "outputs": [],
   "source": [
    "# Find the notebook the saved figures came from\n",
    "fig_prefix = \"../figures/2017-01-14-tc-\""
   ]
  },
  {
   "cell_type": "markdown",
   "metadata": {},
   "source": [
    "## Load Data"
   ]
  },
  {
   "cell_type": "code",
   "execution_count": 36,
   "metadata": {
    "collapsed": false,
    "scrolled": false
   },
   "outputs": [
    {
     "name": "stdout",
     "output_type": "stream",
     "text": [
      "cmte_id,cand_id,cand_nm,contbr_nm,contbr_city,contbr_st,contbr_zip,contbr_employer,contbr_occupation,contb_receipt_amt,contb_receipt_dt,receipt_desc,memo_cd,memo_text,form_tp,file_num,tran_id,election_tp\r\n",
      "C00458844,\"P60006723\",\"Rubio, Marco\",\"BLUM, MAUREEN\",\"WASHINGTON\",\"20\",\"DC\",\"STRATEGIC COALITIONS & INITIATIVES LL\",\"OUTREACH DIRECTOR\",175,15-MAR-16,\"\",\"\",\"\",\"SA17A\",\"1082559\",\"SA17.1152124\",\"P2016\",\r\n"
     ]
    }
   ],
   "source": [
    "!head -n2 ../data/P00000001-ALL.csv\n"
   ]
  },
  {
   "cell_type": "code",
   "execution_count": 40,
   "metadata": {
    "collapsed": false,
    "scrolled": true
   },
   "outputs": [
    {
     "data": {
      "text/plain": [
       "cand_nm               object\n",
       "contbr_st             object\n",
       "contbr_employer       object\n",
       "contbr_occupation     object\n",
       "contb_receipt_amt    float64\n",
       "contb_receipt_dt      object\n",
       "dtype: object"
      ]
     },
     "execution_count": 40,
     "metadata": {},
     "output_type": "execute_result"
    }
   ],
   "source": [
    "cols = ['cand_nm', 'contbr_st', 'contbr_employer', \\\n",
    "        'contb_receipt_amt', 'contbr_occupation', 'contb_receipt_amt', 'contb_receipt_dt']\n",
    "donate = pd.read_csv('../data/P00000001-ALL.csv', index_col=False, dtype='object', usecols = cols)\n",
    "donate['contb_receipt_amt'] = pd.to_numeric(donate['contb_receipt_amt'])\n",
    "# donate['contb_receipt_dt'] = pd.to_datetime(donate['contb_receipt_dt'])\n",
    "\n",
    "donate.dtypes"
   ]
  },
  {
   "cell_type": "code",
   "execution_count": 42,
   "metadata": {
    "collapsed": false
   },
   "outputs": [
    {
     "data": {
      "text/plain": [
       "0          15-MAR-16\n",
       "1          16-MAR-16\n",
       "2          20-FEB-16\n",
       "3          26-JUN-15\n",
       "4          10-MAR-16\n",
       "5          08-MAR-16\n",
       "6          27-JUN-15\n",
       "7          06-FEB-16\n",
       "8          18-MAR-16\n",
       "9          29-OCT-15\n",
       "10         14-JAN-16\n",
       "11         25-JAN-16\n",
       "12         29-JAN-16\n",
       "13         18-JAN-16\n",
       "14         15-JAN-16\n",
       "15         09-FEB-16\n",
       "16         09-FEB-16\n",
       "17         09-FEB-16\n",
       "18         27-AUG-15\n",
       "19         07-MAR-16\n",
       "20         16-FEB-16\n",
       "21         24-FEB-16\n",
       "22         16-FEB-16\n",
       "23         11-FEB-16\n",
       "24         02-FEB-16\n",
       "25         29-FEB-16\n",
       "26         03-FEB-16\n",
       "27         02-FEB-16\n",
       "28         26-FEB-16\n",
       "29         08-FEB-16\n",
       "             ...    \n",
       "7344689    21-OCT-16\n",
       "7344690    30-OCT-16\n",
       "7344691    05-NOV-16\n",
       "7344692    22-OCT-16\n",
       "7344693    04-NOV-16\n",
       "7344694    01-NOV-16\n",
       "7344695    27-OCT-16\n",
       "7344696    26-OCT-16\n",
       "7344697    04-NOV-16\n",
       "7344698    30-OCT-16\n",
       "7344699    21-OCT-16\n",
       "7344700    03-NOV-16\n",
       "7344701    21-OCT-16\n",
       "7344702    22-OCT-16\n",
       "7344703    08-NOV-16\n",
       "7344704    20-OCT-16\n",
       "7344705    26-OCT-16\n",
       "7344706    03-NOV-16\n",
       "7344707    27-OCT-16\n",
       "7344708    03-NOV-16\n",
       "7344709    06-OCT-16\n",
       "7344710    08-SEP-16\n",
       "7344711    25-SEP-16\n",
       "7344712    30-SEP-16\n",
       "7344713    08-OCT-16\n",
       "7344714    12-OCT-16\n",
       "7344715    15-SEP-16\n",
       "7344716    31-OCT-16\n",
       "7344717    04-NOV-16\n",
       "7344718    06-NOV-16\n",
       "Name: contb_receipt_dt, dtype: object"
      ]
     },
     "execution_count": 42,
     "metadata": {},
     "output_type": "execute_result"
    }
   ],
   "source": [
    "donate['contb_receipt_dt'].\n"
   ]
  },
  {
   "cell_type": "code",
   "execution_count": null,
   "metadata": {
    "collapsed": true
   },
   "outputs": [],
   "source": []
  }
 ],
 "metadata": {
  "kernelspec": {
   "display_name": "Python 3",
   "language": "python",
   "name": "python3"
  },
  "language_info": {
   "codemirror_mode": {
    "name": "ipython",
    "version": 3
   },
   "file_extension": ".py",
   "mimetype": "text/x-python",
   "name": "python",
   "nbconvert_exporter": "python",
   "pygments_lexer": "ipython3",
   "version": "3.5.2"
  }
 },
 "nbformat": 4,
 "nbformat_minor": 2
}
