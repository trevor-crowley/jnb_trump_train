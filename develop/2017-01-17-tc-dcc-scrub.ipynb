{
 "cells": [
  {
   "cell_type": "markdown",
   "metadata": {},
   "source": [
    "## Load DCC Data"
   ]
  },
  {
   "cell_type": "code",
   "execution_count": 144,
   "metadata": {
    "collapsed": false
   },
   "outputs": [],
   "source": [
    "from pandas import Series, DataFrame\n",
    "import pandas as pd\n",
    "import numpy as np\n",
    "import matplotlib.pyplot as plt\n",
    "import seaborn as sns"
   ]
  },
  {
   "cell_type": "code",
   "execution_count": 145,
   "metadata": {
    "collapsed": false
   },
   "outputs": [],
   "source": [
    "dfile = '../../zzData_RAW/2017-01-16-tc-dcc-scrub/order_comment.txt'\n",
    "hfile = '../../zzData_RAW/2017-01-16-tc-dcc-scrub/backorder.FDF'"
   ]
  },
  {
   "cell_type": "code",
   "execution_count": 146,
   "metadata": {
    "collapsed": false
   },
   "outputs": [
    {
     "data": {
      "text/plain": [
       "['10063442\\tSL\\t-999.999\\t.01\\t&**GSP BILL ONLY-IMPRINTED TOOTHBRUSHES-NO PRODUCTS SHIPPED* PO#20170001  GSP FILE DATE:JAN.5.2017                       CONTACT ORAL B AT:1-800-543-2577 IF ANY ISSUES              MARIA 4345  TORONTO\\t2613256\\t2613275\\t01/16/17\\t01/16/17',\n",
       " '10073511\\tSO\\t-999.999\\t.01\\t&GSP FILE DATE    JAN.10.2017                                GRACE X4331 TORONTO                                         GSP 5413401\\t2613256\\t3282748\\t01/16/17\\t']"
      ]
     },
     "execution_count": 146,
     "metadata": {},
     "output_type": "execute_result"
    }
   ],
   "source": [
    "!!head -2 $dfile\n",
    "#!!cat $hfile"
   ]
  },
  {
   "cell_type": "code",
   "execution_count": 147,
   "metadata": {
    "collapsed": false
   },
   "outputs": [
    {
     "data": {
      "text/plain": [
       "['doc_no',\n",
       " 'doc_type',\n",
       " 'line_id',\n",
       " 'seq_id',\n",
       " 'note_line',\n",
       " 'bill_to',\n",
       " 'shipto',\n",
       " 'order_date',\n",
       " 'ship_to']"
      ]
     },
     "execution_count": 147,
     "metadata": {},
     "output_type": "execute_result"
    }
   ],
   "source": [
    "cols = ['doc_no','doc_type','line_id','seq_id','note_line','bill_to',\\\n",
    "        'shipto', 'order_date','ship_to']\n",
    "cols"
   ]
  },
  {
   "cell_type": "code",
   "execution_count": 148,
   "metadata": {
    "collapsed": false
   },
   "outputs": [],
   "source": [
    "df = pd.read_table(dfile, encoding='latin1', header=0, names=cols, \\\n",
    "                  usecols=[0,1,3,4,7] )\n"
   ]
  },
  {
   "cell_type": "code",
   "execution_count": 149,
   "metadata": {
    "collapsed": false
   },
   "outputs": [
    {
     "data": {
      "text/html": [
       "<div>\n",
       "<table border=\"1\" class=\"dataframe\">\n",
       "  <thead>\n",
       "    <tr style=\"text-align: right;\">\n",
       "      <th></th>\n",
       "      <th>doc_no</th>\n",
       "      <th>doc_type</th>\n",
       "      <th>seq_id</th>\n",
       "      <th>note_line</th>\n",
       "      <th>order_date</th>\n",
       "    </tr>\n",
       "  </thead>\n",
       "  <tbody>\n",
       "    <tr>\n",
       "      <th>0</th>\n",
       "      <td>10073511</td>\n",
       "      <td>SO</td>\n",
       "      <td>0.01</td>\n",
       "      <td>&amp;GSP FILE DATE    JAN.10.2017                 ...</td>\n",
       "      <td>01/16/17</td>\n",
       "    </tr>\n",
       "    <tr>\n",
       "      <th>1</th>\n",
       "      <td>10081122</td>\n",
       "      <td>SL</td>\n",
       "      <td>0.01</td>\n",
       "      <td>&amp;**GSP BILL ONLY-IMPRINTED TOOTHBRUSHES-NO PRO...</td>\n",
       "      <td>01/16/17</td>\n",
       "    </tr>\n",
       "    <tr>\n",
       "      <th>2</th>\n",
       "      <td>10081833</td>\n",
       "      <td>SL</td>\n",
       "      <td>0.01</td>\n",
       "      <td>&amp;**GSP BILL ONLY-IMPRINTED TOOTHBRUSHES-NO PRO...</td>\n",
       "      <td>01/16/17</td>\n",
       "    </tr>\n",
       "    <tr>\n",
       "      <th>3</th>\n",
       "      <td>10081872</td>\n",
       "      <td>SL</td>\n",
       "      <td>0.01</td>\n",
       "      <td>&amp;**GSP BILL ONLY-IMPRINTED TOOTHBRUSHES-NO PRO...</td>\n",
       "      <td>01/16/17</td>\n",
       "    </tr>\n",
       "    <tr>\n",
       "      <th>4</th>\n",
       "      <td>10082310</td>\n",
       "      <td>SZ</td>\n",
       "      <td>0.01</td>\n",
       "      <td>&amp;Customer PO--- A0000045629                   ...</td>\n",
       "      <td>01/16/17</td>\n",
       "    </tr>\n",
       "  </tbody>\n",
       "</table>\n",
       "</div>"
      ],
      "text/plain": [
       "     doc_no doc_type  seq_id  \\\n",
       "0  10073511       SO    0.01   \n",
       "1  10081122       SL    0.01   \n",
       "2  10081833       SL    0.01   \n",
       "3  10081872       SL    0.01   \n",
       "4  10082310       SZ    0.01   \n",
       "\n",
       "                                           note_line order_date  \n",
       "0  &GSP FILE DATE    JAN.10.2017                 ...   01/16/17  \n",
       "1  &**GSP BILL ONLY-IMPRINTED TOOTHBRUSHES-NO PRO...   01/16/17  \n",
       "2  &**GSP BILL ONLY-IMPRINTED TOOTHBRUSHES-NO PRO...   01/16/17  \n",
       "3  &**GSP BILL ONLY-IMPRINTED TOOTHBRUSHES-NO PRO...   01/16/17  \n",
       "4  &Customer PO--- A0000045629                   ...   01/16/17  "
      ]
     },
     "execution_count": 149,
     "metadata": {},
     "output_type": "execute_result"
    }
   ],
   "source": [
    "df.head()"
   ]
  },
  {
   "cell_type": "markdown",
   "metadata": {},
   "source": [
    "## Scrub"
   ]
  },
  {
   "cell_type": "code",
   "execution_count": 150,
   "metadata": {
    "collapsed": false
   },
   "outputs": [],
   "source": [
    "df.seq_id = np.trunc(df.seq_id * 100)\n",
    "df.seq_id = df.seq_id.astype(int)\n",
    "df.note_line = df.note_line.str.lstrip('&')"
   ]
  },
  {
   "cell_type": "code",
   "execution_count": 151,
   "metadata": {
    "collapsed": false
   },
   "outputs": [
    {
     "data": {
      "text/html": [
       "<div>\n",
       "<table border=\"1\" class=\"dataframe\">\n",
       "  <thead>\n",
       "    <tr style=\"text-align: right;\">\n",
       "      <th></th>\n",
       "      <th>doc_no</th>\n",
       "      <th>doc_type</th>\n",
       "      <th>seq_id</th>\n",
       "      <th>note_line</th>\n",
       "      <th>order_date</th>\n",
       "    </tr>\n",
       "  </thead>\n",
       "  <tbody>\n",
       "    <tr>\n",
       "      <th>0</th>\n",
       "      <td>10073511</td>\n",
       "      <td>SO</td>\n",
       "      <td>1</td>\n",
       "      <td>GSP FILE DATE    JAN.10.2017                  ...</td>\n",
       "      <td>01/16/17</td>\n",
       "    </tr>\n",
       "    <tr>\n",
       "      <th>1</th>\n",
       "      <td>10081122</td>\n",
       "      <td>SL</td>\n",
       "      <td>1</td>\n",
       "      <td>**GSP BILL ONLY-IMPRINTED TOOTHBRUSHES-NO PROD...</td>\n",
       "      <td>01/16/17</td>\n",
       "    </tr>\n",
       "    <tr>\n",
       "      <th>2</th>\n",
       "      <td>10081833</td>\n",
       "      <td>SL</td>\n",
       "      <td>1</td>\n",
       "      <td>**GSP BILL ONLY-IMPRINTED TOOTHBRUSHES-NO PROD...</td>\n",
       "      <td>01/16/17</td>\n",
       "    </tr>\n",
       "    <tr>\n",
       "      <th>3</th>\n",
       "      <td>10081872</td>\n",
       "      <td>SL</td>\n",
       "      <td>1</td>\n",
       "      <td>**GSP BILL ONLY-IMPRINTED TOOTHBRUSHES-NO PROD...</td>\n",
       "      <td>01/16/17</td>\n",
       "    </tr>\n",
       "    <tr>\n",
       "      <th>4</th>\n",
       "      <td>10082310</td>\n",
       "      <td>SZ</td>\n",
       "      <td>1</td>\n",
       "      <td>Customer PO--- A0000045629                    ...</td>\n",
       "      <td>01/16/17</td>\n",
       "    </tr>\n",
       "  </tbody>\n",
       "</table>\n",
       "</div>"
      ],
      "text/plain": [
       "     doc_no doc_type  seq_id  \\\n",
       "0  10073511       SO       1   \n",
       "1  10081122       SL       1   \n",
       "2  10081833       SL       1   \n",
       "3  10081872       SL       1   \n",
       "4  10082310       SZ       1   \n",
       "\n",
       "                                           note_line order_date  \n",
       "0  GSP FILE DATE    JAN.10.2017                  ...   01/16/17  \n",
       "1  **GSP BILL ONLY-IMPRINTED TOOTHBRUSHES-NO PROD...   01/16/17  \n",
       "2  **GSP BILL ONLY-IMPRINTED TOOTHBRUSHES-NO PROD...   01/16/17  \n",
       "3  **GSP BILL ONLY-IMPRINTED TOOTHBRUSHES-NO PROD...   01/16/17  \n",
       "4  Customer PO--- A0000045629                    ...   01/16/17  "
      ]
     },
     "execution_count": 151,
     "metadata": {},
     "output_type": "execute_result"
    }
   ],
   "source": [
    "df.head()"
   ]
  },
  {
   "cell_type": "markdown",
   "metadata": {},
   "source": [
    "## Consolidate TBD"
   ]
  },
  {
   "cell_type": "code",
   "execution_count": 178,
   "metadata": {
    "collapsed": false
   },
   "outputs": [
    {
     "data": {
      "text/plain": [
       "2"
      ]
     },
     "execution_count": 178,
     "metadata": {},
     "output_type": "execute_result"
    }
   ],
   "source": [
    "df.seq_id[68]"
   ]
  },
  {
   "cell_type": "code",
   "execution_count": 194,
   "metadata": {
    "collapsed": false
   },
   "outputs": [],
   "source": [
    "df.to_csv('../data/dcc_order_comment.txt', sep='\\t' )"
   ]
  },
  {
   "cell_type": "code",
   "execution_count": 195,
   "metadata": {
    "collapsed": false
   },
   "outputs": [
    {
     "name": "stdout",
     "output_type": "stream",
     "text": [
      "-rw-r--r-- 1 jovyan users 4.2M Jan 17 04:13 ../data/dcc_order_comment.txt\r\n"
     ]
    }
   ],
   "source": [
    "ls -lah ../data/dcc_order_comment.txt"
   ]
  },
  {
   "cell_type": "code",
   "execution_count": null,
   "metadata": {
    "collapsed": true
   },
   "outputs": [],
   "source": []
  }
 ],
 "metadata": {
  "kernelspec": {
   "display_name": "Python 3",
   "language": "python",
   "name": "python3"
  },
  "language_info": {
   "codemirror_mode": {
    "name": "ipython",
    "version": 3
   },
   "file_extension": ".py",
   "mimetype": "text/x-python",
   "name": "python",
   "nbconvert_exporter": "python",
   "pygments_lexer": "ipython3",
   "version": "3.5.2"
  }
 },
 "nbformat": 4,
 "nbformat_minor": 2
}
