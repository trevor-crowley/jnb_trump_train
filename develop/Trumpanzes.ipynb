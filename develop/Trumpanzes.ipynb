{
 "cells": [
  {
   "cell_type": "code",
   "execution_count": 2,
   "metadata": {
    "collapsed": true
   },
   "outputs": [],
   "source": [
    "import pandas as pd\n",
    "import numpy as np"
   ]
  },
  {
   "cell_type": "code",
   "execution_count": 3,
   "metadata": {
    "collapsed": false
   },
   "outputs": [],
   "source": [
    "donations = pd.read_csv('P00000001-ALL.csv', dtype='object')\n",
    "donations['contb_receipt_amt'] = pd.to_numeric(donations['contb_receipt_amt'])\n",
    "    "
   ]
  },
  {
   "cell_type": "code",
   "execution_count": null,
   "metadata": {
    "collapsed": false
   },
   "outputs": [],
   "source": [
    "donations.groupby(\"cand_nm\").median().sort_values(\"contb_receipt_amt\").plot(kind='bar')"
   ]
  },
  {
   "cell_type": "code",
   "execution_count": null,
   "metadata": {
    "collapsed": false
   },
   "outputs": [],
   "source": [
    "donations.dtypes"
   ]
  },
  {
   "cell_type": "code",
   "execution_count": 33,
   "metadata": {
    "collapsed": false
   },
   "outputs": [],
   "source": [
    "pdonations = donations[['contbr_st', 'cand_nm', 'contbr_occupation', 'contb_receipt_amt']]"
   ]
  },
  {
   "cell_type": "code",
   "execution_count": 43,
   "metadata": {
    "collapsed": false
   },
   "outputs": [
    {
     "data": {
      "text/plain": [
       "contbr_st               int8\n",
       "cand_nm                 int8\n",
       "contbr_occupation      int32\n",
       "contb_receipt_amt    float64\n",
       "dtype: object"
      ]
     },
     "execution_count": 43,
     "metadata": {},
     "output_type": "execute_result"
    }
   ],
   "source": [
    "pdonations.so"
   ]
  },
  {
   "cell_type": "code",
   "execution_count": 50,
   "metadata": {
    "collapsed": false
   },
   "outputs": [
    {
     "data": {
      "text/plain": [
       "count     7344719\n",
       "unique    1352948\n",
       "top       ACTBLUE\n",
       "freq        15244\n",
       "Name: contbr_nm, dtype: object"
      ]
     },
     "execution_count": 50,
     "metadata": {},
     "output_type": "execute_result"
    }
   ],
   "source": [
    "donations['contbr_nm'].describe()\n"
   ]
  },
  {
   "cell_type": "code",
   "execution_count": 51,
   "metadata": {
    "collapsed": false
   },
   "outputs": [
    {
     "name": "stdout",
     "output_type": "stream",
     "text": [
      "66cfcf6d3724405bb15b0099faa46142_0.csv      P00000001-ALL.zip  Trumpanzes.ipynb\r\n",
      "66cfcf6d3724405bb15b0099faa46142_0.geojson  PDownload.do       Untitled.ipynb\r\n",
      "\u001b[0m\u001b[01;34mdata\u001b[0m/                                       \u001b[01;34mresults\u001b[0m/\r\n",
      "P00000001-ALL.csv                           Test1.ipynb\r\n"
     ]
    }
   ],
   "source": [
    "ls\n"
   ]
  },
  {
   "cell_type": "code",
   "execution_count": 56,
   "metadata": {
    "collapsed": false
   },
   "outputs": [
    {
     "data": {
      "text/plain": [
       "array([['C00458844', 'P60006723', 'Rubio, Marco', ..., 'SA17.1152124',\n",
       "        'P2016', nan],\n",
       "       ['C00458844', 'P60006723', 'Rubio, Marco', ..., 'SA17.1153048',\n",
       "        'P2016', nan],\n",
       "       ['C00458844', 'P60006723', 'Rubio, Marco', ..., 'SA17.1020839',\n",
       "        'P2016', nan],\n",
       "       ..., \n",
       "       ['C00623884', 'P60022654', 'McMullin, Evan', ..., 'SA17A.76793',\n",
       "        nan, nan],\n",
       "       ['C00623884', 'P60022654', 'McMullin, Evan', ..., 'SA17A.54329',\n",
       "        nan, nan],\n",
       "       ['C00623884', 'P60022654', 'McMullin, Evan', ..., 'SA17A.53707',\n",
       "        nan, nan]], dtype=object)"
      ]
     },
     "execution_count": 56,
     "metadata": {},
     "output_type": "execute_result"
    }
   ],
   "source": [
    "donations.keys()\n",
    "donations.values"
   ]
  },
  {
   "cell_type": "code",
   "execution_count": 57,
   "metadata": {
    "collapsed": true
   },
   "outputs": [],
   "source": [
    "d = donations\n"
   ]
  },
  {
   "cell_type": "code",
   "execution_count": 66,
   "metadata": {
    "collapsed": false
   },
   "outputs": [
    {
     "data": {
      "text/html": [
       "<div>\n",
       "<table border=\"1\" class=\"dataframe\">\n",
       "  <thead>\n",
       "    <tr style=\"text-align: right;\">\n",
       "      <th></th>\n",
       "      <th>0</th>\n",
       "      <th>1</th>\n",
       "    </tr>\n",
       "  </thead>\n",
       "  <tbody>\n",
       "    <tr>\n",
       "      <th>cmte_id</th>\n",
       "      <td>C00458844</td>\n",
       "      <td>C00458844</td>\n",
       "    </tr>\n",
       "    <tr>\n",
       "      <th>cand_id</th>\n",
       "      <td>P60006723</td>\n",
       "      <td>P60006723</td>\n",
       "    </tr>\n",
       "    <tr>\n",
       "      <th>cand_nm</th>\n",
       "      <td>Rubio, Marco</td>\n",
       "      <td>Rubio, Marco</td>\n",
       "    </tr>\n",
       "    <tr>\n",
       "      <th>contbr_nm</th>\n",
       "      <td>BLUM, MAUREEN</td>\n",
       "      <td>DODSON, MARK B. MR.</td>\n",
       "    </tr>\n",
       "    <tr>\n",
       "      <th>contbr_city</th>\n",
       "      <td>WASHINGTON</td>\n",
       "      <td>ATLANTA</td>\n",
       "    </tr>\n",
       "    <tr>\n",
       "      <th>contbr_st</th>\n",
       "      <td>20</td>\n",
       "      <td>30</td>\n",
       "    </tr>\n",
       "    <tr>\n",
       "      <th>contbr_zip</th>\n",
       "      <td>DC</td>\n",
       "      <td>GA</td>\n",
       "    </tr>\n",
       "    <tr>\n",
       "      <th>contbr_employer</th>\n",
       "      <td>STRATEGIC COALITIONS &amp; INITIATIVES LL</td>\n",
       "      <td>MORTGAGE CAPITAL ADVISORS</td>\n",
       "    </tr>\n",
       "    <tr>\n",
       "      <th>contbr_occupation</th>\n",
       "      <td>OUTREACH DIRECTOR</td>\n",
       "      <td>PRIVATE MORTGAGE BANKING</td>\n",
       "    </tr>\n",
       "    <tr>\n",
       "      <th>contb_receipt_amt</th>\n",
       "      <td>175</td>\n",
       "      <td>25</td>\n",
       "    </tr>\n",
       "    <tr>\n",
       "      <th>contb_receipt_dt</th>\n",
       "      <td>15-MAR-16</td>\n",
       "      <td>16-MAR-16</td>\n",
       "    </tr>\n",
       "    <tr>\n",
       "      <th>receipt_desc</th>\n",
       "      <td>NaN</td>\n",
       "      <td>NaN</td>\n",
       "    </tr>\n",
       "    <tr>\n",
       "      <th>memo_cd</th>\n",
       "      <td>NaN</td>\n",
       "      <td>NaN</td>\n",
       "    </tr>\n",
       "    <tr>\n",
       "      <th>memo_text</th>\n",
       "      <td>NaN</td>\n",
       "      <td>DEBT RETIREMENT</td>\n",
       "    </tr>\n",
       "    <tr>\n",
       "      <th>form_tp</th>\n",
       "      <td>SA17A</td>\n",
       "      <td>SA17A</td>\n",
       "    </tr>\n",
       "    <tr>\n",
       "      <th>file_num</th>\n",
       "      <td>1082559</td>\n",
       "      <td>1082559</td>\n",
       "    </tr>\n",
       "    <tr>\n",
       "      <th>tran_id</th>\n",
       "      <td>SA17.1152124</td>\n",
       "      <td>SA17.1153048</td>\n",
       "    </tr>\n",
       "    <tr>\n",
       "      <th>election_tp</th>\n",
       "      <td>P2016</td>\n",
       "      <td>P2016</td>\n",
       "    </tr>\n",
       "    <tr>\n",
       "      <th>eol</th>\n",
       "      <td>NaN</td>\n",
       "      <td>NaN</td>\n",
       "    </tr>\n",
       "  </tbody>\n",
       "</table>\n",
       "</div>"
      ],
      "text/plain": [
       "                                                       0  \\\n",
       "cmte_id                                        C00458844   \n",
       "cand_id                                        P60006723   \n",
       "cand_nm                                     Rubio, Marco   \n",
       "contbr_nm                                  BLUM, MAUREEN   \n",
       "contbr_city                                   WASHINGTON   \n",
       "contbr_st                                             20   \n",
       "contbr_zip                                            DC   \n",
       "contbr_employer    STRATEGIC COALITIONS & INITIATIVES LL   \n",
       "contbr_occupation                      OUTREACH DIRECTOR   \n",
       "contb_receipt_amt                                    175   \n",
       "contb_receipt_dt                               15-MAR-16   \n",
       "receipt_desc                                         NaN   \n",
       "memo_cd                                              NaN   \n",
       "memo_text                                            NaN   \n",
       "form_tp                                            SA17A   \n",
       "file_num                                         1082559   \n",
       "tran_id                                     SA17.1152124   \n",
       "election_tp                                        P2016   \n",
       "eol                                                  NaN   \n",
       "\n",
       "                                           1  \n",
       "cmte_id                            C00458844  \n",
       "cand_id                            P60006723  \n",
       "cand_nm                         Rubio, Marco  \n",
       "contbr_nm                DODSON, MARK B. MR.  \n",
       "contbr_city                          ATLANTA  \n",
       "contbr_st                                 30  \n",
       "contbr_zip                                GA  \n",
       "contbr_employer    MORTGAGE CAPITAL ADVISORS  \n",
       "contbr_occupation   PRIVATE MORTGAGE BANKING  \n",
       "contb_receipt_amt                         25  \n",
       "contb_receipt_dt                   16-MAR-16  \n",
       "receipt_desc                             NaN  \n",
       "memo_cd                                  NaN  \n",
       "memo_text                    DEBT RETIREMENT  \n",
       "form_tp                                SA17A  \n",
       "file_num                             1082559  \n",
       "tran_id                         SA17.1153048  \n",
       "election_tp                            P2016  \n",
       "eol                                      NaN  "
      ]
     },
     "execution_count": 66,
     "metadata": {},
     "output_type": "execute_result"
    }
   ],
   "source": [
    "d.head(2).T"
   ]
  },
  {
   "cell_type": "code",
   "execution_count": 124,
   "metadata": {
    "collapsed": false
   },
   "outputs": [
    {
     "name": "stderr",
     "output_type": "stream",
     "text": [
      "/opt/conda/lib/python3.5/site-packages/ipykernel/__main__.py:1: FutureWarning: sort(....) is deprecated, use sort_index(.....)\n",
      "  if __name__ == '__main__':\n"
     ]
    },
    {
     "data": {
      "text/html": [
       "<div>\n",
       "<table border=\"1\" class=\"dataframe\">\n",
       "  <thead>\n",
       "    <tr style=\"text-align: right;\">\n",
       "      <th></th>\n",
       "      <th>contb_receipt_amt</th>\n",
       "    </tr>\n",
       "    <tr>\n",
       "      <th>cand_nm</th>\n",
       "      <th></th>\n",
       "    </tr>\n",
       "  </thead>\n",
       "  <tbody>\n",
       "    <tr>\n",
       "      <th>Bush, Jeb</th>\n",
       "      <td>3.153619e+07</td>\n",
       "    </tr>\n",
       "    <tr>\n",
       "      <th>Carson, Benjamin S.</th>\n",
       "      <td>2.633433e+07</td>\n",
       "    </tr>\n",
       "    <tr>\n",
       "      <th>Christie, Christopher J.</th>\n",
       "      <td>7.859470e+06</td>\n",
       "    </tr>\n",
       "    <tr>\n",
       "      <th>Clinton, Hillary Rodham</th>\n",
       "      <td>5.157360e+08</td>\n",
       "    </tr>\n",
       "    <tr>\n",
       "      <th>Cruz, Rafael Edward 'Ted'</th>\n",
       "      <td>5.632231e+07</td>\n",
       "    </tr>\n",
       "    <tr>\n",
       "      <th>Fiorina, Carly</th>\n",
       "      <td>6.370927e+06</td>\n",
       "    </tr>\n",
       "    <tr>\n",
       "      <th>Gilmore, James S III</th>\n",
       "      <td>1.025097e+05</td>\n",
       "    </tr>\n",
       "    <tr>\n",
       "      <th>Graham, Lindsey O.</th>\n",
       "      <td>3.671464e+06</td>\n",
       "    </tr>\n",
       "    <tr>\n",
       "      <th>Huckabee, Mike</th>\n",
       "      <td>2.352096e+06</td>\n",
       "    </tr>\n",
       "    <tr>\n",
       "      <th>Jindal, Bobby</th>\n",
       "      <td>1.264593e+06</td>\n",
       "    </tr>\n",
       "    <tr>\n",
       "      <th>Johnson, Gary</th>\n",
       "      <td>3.557858e+06</td>\n",
       "    </tr>\n",
       "    <tr>\n",
       "      <th>Kasich, John R.</th>\n",
       "      <td>1.421977e+07</td>\n",
       "    </tr>\n",
       "    <tr>\n",
       "      <th>Lessig, Lawrence</th>\n",
       "      <td>6.214945e+05</td>\n",
       "    </tr>\n",
       "    <tr>\n",
       "      <th>McMullin, Evan</th>\n",
       "      <td>5.471783e+05</td>\n",
       "    </tr>\n",
       "    <tr>\n",
       "      <th>O'Malley, Martin Joseph</th>\n",
       "      <td>3.971291e+06</td>\n",
       "    </tr>\n",
       "    <tr>\n",
       "      <th>Pataki, George E.</th>\n",
       "      <td>5.046494e+05</td>\n",
       "    </tr>\n",
       "    <tr>\n",
       "      <th>Paul, Rand</th>\n",
       "      <td>6.058601e+06</td>\n",
       "    </tr>\n",
       "    <tr>\n",
       "      <th>Perry, James R. (Rick)</th>\n",
       "      <td>1.120363e+06</td>\n",
       "    </tr>\n",
       "    <tr>\n",
       "      <th>Rubio, Marco</th>\n",
       "      <td>3.130875e+07</td>\n",
       "    </tr>\n",
       "    <tr>\n",
       "      <th>Sanders, Bernard</th>\n",
       "      <td>9.224376e+07</td>\n",
       "    </tr>\n",
       "    <tr>\n",
       "      <th>Santorum, Richard J.</th>\n",
       "      <td>1.058824e+06</td>\n",
       "    </tr>\n",
       "    <tr>\n",
       "      <th>Stein, Jill</th>\n",
       "      <td>1.011175e+06</td>\n",
       "    </tr>\n",
       "    <tr>\n",
       "      <th>Trump, Donald J.</th>\n",
       "      <td>1.174192e+08</td>\n",
       "    </tr>\n",
       "    <tr>\n",
       "      <th>Walker, Scott</th>\n",
       "      <td>4.929504e+06</td>\n",
       "    </tr>\n",
       "    <tr>\n",
       "      <th>Webb, James Henry Jr.</th>\n",
       "      <td>4.392464e+05</td>\n",
       "    </tr>\n",
       "  </tbody>\n",
       "</table>\n",
       "</div>"
      ],
      "text/plain": [
       "                           contb_receipt_amt\n",
       "cand_nm                                     \n",
       "Bush, Jeb                       3.153619e+07\n",
       "Carson, Benjamin S.             2.633433e+07\n",
       "Christie, Christopher J.        7.859470e+06\n",
       "Clinton, Hillary Rodham         5.157360e+08\n",
       "Cruz, Rafael Edward 'Ted'       5.632231e+07\n",
       "Fiorina, Carly                  6.370927e+06\n",
       "Gilmore, James S III            1.025097e+05\n",
       "Graham, Lindsey O.              3.671464e+06\n",
       "Huckabee, Mike                  2.352096e+06\n",
       "Jindal, Bobby                   1.264593e+06\n",
       "Johnson, Gary                   3.557858e+06\n",
       "Kasich, John R.                 1.421977e+07\n",
       "Lessig, Lawrence                6.214945e+05\n",
       "McMullin, Evan                  5.471783e+05\n",
       "O'Malley, Martin Joseph         3.971291e+06\n",
       "Pataki, George E.               5.046494e+05\n",
       "Paul, Rand                      6.058601e+06\n",
       "Perry, James R. (Rick)          1.120363e+06\n",
       "Rubio, Marco                    3.130875e+07\n",
       "Sanders, Bernard                9.224376e+07\n",
       "Santorum, Richard J.            1.058824e+06\n",
       "Stein, Jill                     1.011175e+06\n",
       "Trump, Donald J.                1.174192e+08\n",
       "Walker, Scott                   4.929504e+06\n",
       "Webb, James Henry Jr.           4.392464e+05"
      ]
     },
     "execution_count": 124,
     "metadata": {},
     "output_type": "execute_result"
    }
   ],
   "source": [
    "d.groupby('cand_nm').sum().sort()"
   ]
  },
  {
   "cell_type": "code",
   "execution_count": 125,
   "metadata": {
    "collapsed": false
   },
   "outputs": [
    {
     "data": {
      "text/plain": [
       "4"
      ]
     },
     "execution_count": 125,
     "metadata": {},
     "output_type": "execute_result"
    }
   ],
   "source": [
    "2*2"
   ]
  },
  {
   "cell_type": "code",
   "execution_count": null,
   "metadata": {
    "collapsed": true
   },
   "outputs": [],
   "source": []
  }
 ],
 "metadata": {
  "kernelspec": {
   "display_name": "Python 3",
   "language": "python",
   "name": "python3"
  },
  "language_info": {
   "codemirror_mode": {
    "name": "ipython",
    "version": 3
   },
   "file_extension": ".py",
   "mimetype": "text/x-python",
   "name": "python",
   "nbconvert_exporter": "python",
   "pygments_lexer": "ipython3",
   "version": "3.5.2"
  }
 },
 "nbformat": 4,
 "nbformat_minor": 2
}
